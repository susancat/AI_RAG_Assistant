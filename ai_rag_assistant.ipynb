{
  "nbformat": 4,
  "nbformat_minor": 0,
  "metadata": {
    "colab": {
      "provenance": []
    },
    "kernelspec": {
      "name": "python3",
      "display_name": "Python 3"
    },
    "language_info": {
      "name": "python"
    }
  },
  "cells": [
    {
      "cell_type": "code",
      "source": [
        "!pip install -q openai faiss-cpu numpy"
      ],
      "metadata": {
        "colab": {
          "base_uri": "https://localhost:8080/"
        },
        "collapsed": true,
        "id": "_fglpTu3rQmN",
        "outputId": "c6d9e648-20e1-4e41-f86f-661020abe812"
      },
      "execution_count": 17,
      "outputs": [
        {
          "output_type": "stream",
          "name": "stdout",
          "text": [
            "/content\n",
            "\u001b[2K   \u001b[90m━━━━━━━━━━━━━━━━━━━━━━━━━━━━━━━━━━━━━━━━\u001b[0m \u001b[32m31.4/31.4 MB\u001b[0m \u001b[31m53.5 MB/s\u001b[0m eta \u001b[36m0:00:00\u001b[0m\n",
            "\u001b[?25h"
          ]
        }
      ]
    },
    {
      "cell_type": "code",
      "source": [
        "from google.colab import files\n",
        "\n",
        "uploaded = files.upload()  # select the original material file"
      ],
      "metadata": {
        "colab": {
          "base_uri": "https://localhost:8080/",
          "height": 77
        },
        "id": "i0SUk40gNmc2",
        "outputId": "185878ec-33b7-429a-c7ad-f48441345d9a"
      },
      "execution_count": 30,
      "outputs": [
        {
          "output_type": "display_data",
          "data": {
            "text/plain": [
              "<IPython.core.display.HTML object>"
            ],
            "text/html": [
              "\n",
              "     <input type=\"file\" id=\"files-6065f51c-f11f-4f3a-9d63-4fbe302d5507\" name=\"files[]\" multiple disabled\n",
              "        style=\"border:none\" />\n",
              "     <output id=\"result-6065f51c-f11f-4f3a-9d63-4fbe302d5507\">\n",
              "      Upload widget is only available when the cell has been executed in the\n",
              "      current browser session. Please rerun this cell to enable.\n",
              "      </output>\n",
              "      <script>// Copyright 2017 Google LLC\n",
              "//\n",
              "// Licensed under the Apache License, Version 2.0 (the \"License\");\n",
              "// you may not use this file except in compliance with the License.\n",
              "// You may obtain a copy of the License at\n",
              "//\n",
              "//      http://www.apache.org/licenses/LICENSE-2.0\n",
              "//\n",
              "// Unless required by applicable law or agreed to in writing, software\n",
              "// distributed under the License is distributed on an \"AS IS\" BASIS,\n",
              "// WITHOUT WARRANTIES OR CONDITIONS OF ANY KIND, either express or implied.\n",
              "// See the License for the specific language governing permissions and\n",
              "// limitations under the License.\n",
              "\n",
              "/**\n",
              " * @fileoverview Helpers for google.colab Python module.\n",
              " */\n",
              "(function(scope) {\n",
              "function span(text, styleAttributes = {}) {\n",
              "  const element = document.createElement('span');\n",
              "  element.textContent = text;\n",
              "  for (const key of Object.keys(styleAttributes)) {\n",
              "    element.style[key] = styleAttributes[key];\n",
              "  }\n",
              "  return element;\n",
              "}\n",
              "\n",
              "// Max number of bytes which will be uploaded at a time.\n",
              "const MAX_PAYLOAD_SIZE = 100 * 1024;\n",
              "\n",
              "function _uploadFiles(inputId, outputId) {\n",
              "  const steps = uploadFilesStep(inputId, outputId);\n",
              "  const outputElement = document.getElementById(outputId);\n",
              "  // Cache steps on the outputElement to make it available for the next call\n",
              "  // to uploadFilesContinue from Python.\n",
              "  outputElement.steps = steps;\n",
              "\n",
              "  return _uploadFilesContinue(outputId);\n",
              "}\n",
              "\n",
              "// This is roughly an async generator (not supported in the browser yet),\n",
              "// where there are multiple asynchronous steps and the Python side is going\n",
              "// to poll for completion of each step.\n",
              "// This uses a Promise to block the python side on completion of each step,\n",
              "// then passes the result of the previous step as the input to the next step.\n",
              "function _uploadFilesContinue(outputId) {\n",
              "  const outputElement = document.getElementById(outputId);\n",
              "  const steps = outputElement.steps;\n",
              "\n",
              "  const next = steps.next(outputElement.lastPromiseValue);\n",
              "  return Promise.resolve(next.value.promise).then((value) => {\n",
              "    // Cache the last promise value to make it available to the next\n",
              "    // step of the generator.\n",
              "    outputElement.lastPromiseValue = value;\n",
              "    return next.value.response;\n",
              "  });\n",
              "}\n",
              "\n",
              "/**\n",
              " * Generator function which is called between each async step of the upload\n",
              " * process.\n",
              " * @param {string} inputId Element ID of the input file picker element.\n",
              " * @param {string} outputId Element ID of the output display.\n",
              " * @return {!Iterable<!Object>} Iterable of next steps.\n",
              " */\n",
              "function* uploadFilesStep(inputId, outputId) {\n",
              "  const inputElement = document.getElementById(inputId);\n",
              "  inputElement.disabled = false;\n",
              "\n",
              "  const outputElement = document.getElementById(outputId);\n",
              "  outputElement.innerHTML = '';\n",
              "\n",
              "  const pickedPromise = new Promise((resolve) => {\n",
              "    inputElement.addEventListener('change', (e) => {\n",
              "      resolve(e.target.files);\n",
              "    });\n",
              "  });\n",
              "\n",
              "  const cancel = document.createElement('button');\n",
              "  inputElement.parentElement.appendChild(cancel);\n",
              "  cancel.textContent = 'Cancel upload';\n",
              "  const cancelPromise = new Promise((resolve) => {\n",
              "    cancel.onclick = () => {\n",
              "      resolve(null);\n",
              "    };\n",
              "  });\n",
              "\n",
              "  // Wait for the user to pick the files.\n",
              "  const files = yield {\n",
              "    promise: Promise.race([pickedPromise, cancelPromise]),\n",
              "    response: {\n",
              "      action: 'starting',\n",
              "    }\n",
              "  };\n",
              "\n",
              "  cancel.remove();\n",
              "\n",
              "  // Disable the input element since further picks are not allowed.\n",
              "  inputElement.disabled = true;\n",
              "\n",
              "  if (!files) {\n",
              "    return {\n",
              "      response: {\n",
              "        action: 'complete',\n",
              "      }\n",
              "    };\n",
              "  }\n",
              "\n",
              "  for (const file of files) {\n",
              "    const li = document.createElement('li');\n",
              "    li.append(span(file.name, {fontWeight: 'bold'}));\n",
              "    li.append(span(\n",
              "        `(${file.type || 'n/a'}) - ${file.size} bytes, ` +\n",
              "        `last modified: ${\n",
              "            file.lastModifiedDate ? file.lastModifiedDate.toLocaleDateString() :\n",
              "                                    'n/a'} - `));\n",
              "    const percent = span('0% done');\n",
              "    li.appendChild(percent);\n",
              "\n",
              "    outputElement.appendChild(li);\n",
              "\n",
              "    const fileDataPromise = new Promise((resolve) => {\n",
              "      const reader = new FileReader();\n",
              "      reader.onload = (e) => {\n",
              "        resolve(e.target.result);\n",
              "      };\n",
              "      reader.readAsArrayBuffer(file);\n",
              "    });\n",
              "    // Wait for the data to be ready.\n",
              "    let fileData = yield {\n",
              "      promise: fileDataPromise,\n",
              "      response: {\n",
              "        action: 'continue',\n",
              "      }\n",
              "    };\n",
              "\n",
              "    // Use a chunked sending to avoid message size limits. See b/62115660.\n",
              "    let position = 0;\n",
              "    do {\n",
              "      const length = Math.min(fileData.byteLength - position, MAX_PAYLOAD_SIZE);\n",
              "      const chunk = new Uint8Array(fileData, position, length);\n",
              "      position += length;\n",
              "\n",
              "      const base64 = btoa(String.fromCharCode.apply(null, chunk));\n",
              "      yield {\n",
              "        response: {\n",
              "          action: 'append',\n",
              "          file: file.name,\n",
              "          data: base64,\n",
              "        },\n",
              "      };\n",
              "\n",
              "      let percentDone = fileData.byteLength === 0 ?\n",
              "          100 :\n",
              "          Math.round((position / fileData.byteLength) * 100);\n",
              "      percent.textContent = `${percentDone}% done`;\n",
              "\n",
              "    } while (position < fileData.byteLength);\n",
              "  }\n",
              "\n",
              "  // All done.\n",
              "  yield {\n",
              "    response: {\n",
              "      action: 'complete',\n",
              "    }\n",
              "  };\n",
              "}\n",
              "\n",
              "scope.google = scope.google || {};\n",
              "scope.google.colab = scope.google.colab || {};\n",
              "scope.google.colab._files = {\n",
              "  _uploadFiles,\n",
              "  _uploadFilesContinue,\n",
              "};\n",
              "})(self);\n",
              "</script> "
            ]
          },
          "metadata": {}
        },
        {
          "output_type": "stream",
          "name": "stdout",
          "text": [
            "Saving NovaTech_Product_Intro_Bilingual.txt to NovaTech_Product_Intro_Bilingual.txt\n"
          ]
        }
      ]
    },
    {
      "cell_type": "code",
      "source": [
        "filename = \"NovaTech_Product_Intro_Bilingual.txt\"  # your file name\n",
        "\n",
        "with open(filename, \"r\", encoding=\"utf-8\") as f:\n",
        "    full_text = f.read()\n",
        "\n",
        "# using a paragraph to chunk\n",
        "text_chunks = [chunk.strip() for chunk in full_text.split(\"\\n\") if chunk.strip()]\n",
        "print(f\"split to {len(text_chunks)} chunks\")"
      ],
      "metadata": {
        "colab": {
          "base_uri": "https://localhost:8080/"
        },
        "id": "qEz47GVnQuyF",
        "outputId": "b45e4622-5de5-47c9-ee2e-21fc0fabbb5e"
      },
      "execution_count": 41,
      "outputs": [
        {
          "output_type": "stream",
          "name": "stdout",
          "text": [
            "split to 56 chunks\n"
          ]
        }
      ]
    },
    {
      "cell_type": "code",
      "source": [
        "from google.colab import userdata\n",
        "from openai import OpenAI\n",
        "import os\n",
        "\n",
        "client = OpenAI(api_key=userdata.get('OPENAI_API_KEY'))\n",
        "\n",
        "# embedding the texts\n",
        "def embed_texts(texts):\n",
        "    response = client.embeddings.create(\n",
        "        input=texts,\n",
        "        model=\"text-embedding-3-small\"\n",
        "    )\n",
        "    return [item.embedding for item in response.data]"
      ],
      "metadata": {
        "id": "c14ybnWtRg1O"
      },
      "execution_count": 33,
      "outputs": []
    },
    {
      "cell_type": "code",
      "source": [
        "import faiss\n",
        "import numpy as np\n",
        "\n",
        "# generate embedding texts\n",
        "embeddings = embed_texts(text_chunks)\n",
        "embedding_dim = len(embeddings[0])\n",
        "\n",
        "# create FAISS index\n",
        "index = faiss.IndexFlatL2(embedding_dim)\n",
        "index.add(np.array(embeddings).astype(\"float32\"))\n",
        "\n",
        "# store FAISS index\n",
        "faiss.write_index(index, \"docs_index.faiss\")\n",
        "\n",
        "# store chunks\n",
        "with open(\"docs_chunks.txt\", \"w\", encoding=\"utf-8\") as f:\n",
        "    for line in text_chunks:\n",
        "        f.write(line + \"\\n\")\n",
        "\n",
        "print(\"✅ index and chunks stored\")"
      ],
      "metadata": {
        "colab": {
          "base_uri": "https://localhost:8080/"
        },
        "id": "9aMCEAnJTBgo",
        "outputId": "d7794522-43a9-4e90-831c-a7a2611e5d96"
      },
      "execution_count": 42,
      "outputs": [
        {
          "output_type": "stream",
          "name": "stdout",
          "text": [
            "✅ index and chunks stored\n"
          ]
        }
      ]
    },
    {
      "cell_type": "code",
      "source": [
        "import faiss\n",
        "import numpy as np\n",
        "\n",
        "# read the index and the original paragraphs\n",
        "index = faiss.read_index(\"docs_index.faiss\")\n",
        "\n",
        "with open(\"docs_chunks.txt\", \"r\", encoding=\"utf-8\") as f:\n",
        "    chunks = [line.strip() for line in f if line.strip()]"
      ],
      "metadata": {
        "id": "ZP9ZssikW3Yq"
      },
      "execution_count": 35,
      "outputs": []
    },
    {
      "cell_type": "code",
      "source": [
        "# judge to use AI or RAG to answer, the lower the score, the high the similarity,\n",
        "# if the score<threshhold, should answer from the doc\n",
        "def answer_query(query, threshold=0.9):\n",
        "    # embed the query\n",
        "    query_vector = np.array([embed_texts([query])[0]]).astype(\"float32\")\n",
        "\n",
        "    # query the FAISS index\n",
        "    distances, indices = index.search(query_vector, k=1)\n",
        "    top_score = distances[0][0]\n",
        "    top_match = chunks[indices[0][0]]\n",
        "\n",
        "    print(f\"Top similarity distance: {top_score:.4f}\")\n",
        "    print(f\"Top matched paragraph:\\n{top_match}\\n\")\n",
        "\n",
        "    # if the similarity>threshold，answer with RAG\n",
        "    if top_score < threshold:\n",
        "        messages = [\n",
        "            {\"role\": \"system\", \"content\": \"你是一個聰明的 AI 助理，請根據提供的上下文或你的知識回答問題。\"},\n",
        "            {\"role\": \"user\", \"content\": f\"請根據以下資料回答問題：\\n\\n{top_match}\\n\\n問題：{query}\"}\n",
        "        ]\n",
        "        mode = \"📄 answer with RAG\"\n",
        "    else:\n",
        "        # fallback：if the similarity<threshold, answer with GPT\n",
        "        fallback_message = (\n",
        "            \"我沒有在上傳的文檔中找到與你的問題足夠相似的段落，\"\n",
        "            \"所以改用 GPT 模式嘗試幫你回答。你也可以試著重新描述問題，\"\n",
        "            \"或確認上傳的文檔是否包含你要問的主題。\"\n",
        "        )\n",
        "        print(f\"⚠️ {fallback_message}\")\n",
        "        messages = [\n",
        "            {\"role\": \"system\", \"content\": \"你是一個聰明的 AI 助理，請根據你的知識來回答問題。\"},\n",
        "            {\"role\": \"user\", \"content\": f\"{query}\"}\n",
        "        ]\n",
        "        mode = \"🌐 answer with GPT（non-RAG mode）\"\n",
        "\n",
        "    # response with the GPT\n",
        "    response = client.chat.completions.create(\n",
        "        model=\"gpt-5-nano\",\n",
        "        messages=messages\n",
        "    )\n",
        "    answer = response.choices[0].message.content\n",
        "    print(mode)\n",
        "    return answer"
      ],
      "metadata": {
        "id": "Kekdk5nV-Ks0"
      },
      "execution_count": 48,
      "outputs": []
    },
    {
      "cell_type": "code",
      "source": [
        "if os.path.exists(\"docs_chunks.txt\") and os.path.exists(\"docs_index.faiss\"):\n",
        "    answer = answer_query(\"請介紹NovaTech的主要產品\")\n",
        "    print(answer)\n",
        "else:\n",
        "    print(\"⚠️ 尚未成功建立索引或上傳文檔，請先執行對應步驟\")"
      ],
      "metadata": {
        "colab": {
          "base_uri": "https://localhost:8080/"
        },
        "id": "L7pTujsRFmgQ",
        "outputId": "911621da-3b0e-4bb1-83df-4dcef06fe728"
      },
      "execution_count": 50,
      "outputs": [
        {
          "output_type": "stream",
          "name": "stdout",
          "text": [
            "Top similarity distance: 0.7695\n",
            "Top matched paragraph:\n",
            "NovaTech 是一家專注於人工智慧、雲端運算與物聯網整合的創新科技公司。我們致力於為企業提供高效、可擴展且智慧化的解決方案，協助客戶在數位轉型的浪潮中取得競爭優勢。\n",
            "\n",
            "📄 answer with RAG\n",
            "根據你提供的簡介，NovaTech 的官方產品清單尚未明確列出。基於其專長領域（人工智慧、雲端運算、物聯網整合），以下是可能成為其核心產品方向的推測性分類，供你作為撰寫宣傳素材的參考。這些並非官方確認的產品名稱，而是與公司定位相符的常見解決方案類型：\n",
            "\n",
            "- AI 與自動化平台\n",
            "  - 功能方向：整合資料管線、機器學習模型訓練與部署、推理服務、商業流程自動化與工作流管理，具備企業級的模型治理與 MLOps 能力。\n",
            "\n",
            "- 雲端原生解決方案\n",
            "  - 功能方向：多雲/混合雲部署、資料湖與資料管線、應用與資料治理、可擴展的雲端架構與 DevOps 能力，支援企業級可擴展性與韌性。\n",
            "\n",
            "- 物聯網整合與裝置管理\n",
            "  - 功能方向：裝置連接與註冊、遠端監控、資料收集與轉換、事件驅動自動化、裝置安全與合規性管理。\n",
            "\n",
            "- 邊緣運算與實時分析\n",
            "  - 功能方向：在現場或邊緣節點進行資料處理與分析、低延遲決策支援、雲端協同與資料同步。\n",
            "\n",
            "- 資安與資料治理\n",
            "  - 功能方向：身份與存取管理、資料加密與保密、風險監控、合規性與審計支援、資料治理框架。\n",
            "\n",
            "如需，我可以根據你提供的官方資料，幫你整理成正式的「產品概述」或「宣傳文案」，並協助撰寫每個產品方向的重點功能、適用產業與價值主張。需要你提供更具體的官方產品清單或品牌用語後，我就能幫你產出更精準的內容。\n"
          ]
        }
      ]
    }
  ]
}
